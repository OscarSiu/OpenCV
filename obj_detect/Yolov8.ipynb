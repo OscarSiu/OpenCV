{
  "nbformat": 4,
  "nbformat_minor": 0,
  "metadata": {
    "colab": {
      "provenance": []
    },
    "kernelspec": {
      "name": "python3",
      "display_name": "Python 3"
    },
    "language_info": {
      "name": "python"
    }
  },
  "cells": [
    {
      "cell_type": "markdown",
      "source": [
        "<div>\n",
        "<a href=\"https://ithelp.ithome.com.tw/articles/10311114\">YOLOv8 實測</a>\n",
        "\n",
        "</div>"
      ],
      "metadata": {
        "id": "QXRqIcsxJMZl"
      }
    },
    {
      "cell_type": "markdown",
      "source": [
        "## Setup\n"
      ],
      "metadata": {
        "id": "kBJ2bsyhJc3o"
      }
    },
    {
      "cell_type": "code",
      "source": [
        "#! pip install ultralytics\n",
        "#%pip install ultralytics\n",
        "import ultralytics\n",
        "#ultralytics.checks()"
      ],
      "metadata": {
        "id": "1hpgyHcmHzFx",
        "colab": {
          "base_uri": "https://localhost:8080/"
        },
        "outputId": "a9a765bc-5ed8-4244-a6ac-e2c0df3eeb74"
      },
      "execution_count": null,
      "outputs": [
        {
          "output_type": "stream",
          "name": "stderr",
          "text": [
            "Ultralytics YOLOv8.0.51 🚀 Python-3.9.16 torch-1.13.1+cu116 CPU\n",
            "Setup complete ✅ (2 CPUs, 12.7 GB RAM, 25.4/107.7 GB disk)\n"
          ]
        }
      ]
    },
    {
      "cell_type": "markdown",
      "source": [
        "## Testing"
      ],
      "metadata": {
        "id": "G3Ur3REoH_Ik"
      }
    },
    {
      "cell_type": "code",
      "source": [
        "# Object detection\n",
        "# ! yolo predict model=yolov8n.pt source=\"https://ultralytics.com/images/zidane.jpg\"\n",
        "! yolo task=detect mode=predict model=yolov8s.pt source=\"tsingyi.JPG\" save=True\n"
      ],
      "metadata": {
        "id": "_4hC5IsOH3N2",
        "colab": {
          "base_uri": "https://localhost:8080/"
        },
        "outputId": "ebc97f53-9588-48c8-92e6-6068ede2e4da"
      },
      "execution_count": null,
      "outputs": [
        {
          "output_type": "stream",
          "name": "stdout",
          "text": [
            "Ultralytics YOLOv8.0.51 🚀 Python-3.9.16 torch-1.13.1+cu116 CPU\n",
            "YOLOv8s summary (fused): 168 layers, 11156544 parameters, 0 gradients, 28.6 GFLOPs\n",
            "\n",
            "Premature end of JPEG file\n",
            "image 1/1 /content/tsingyi.JPG: 448x640 6 persons, 459.6ms\n",
            "Speed: 2.2ms preprocess, 459.6ms inference, 1.7ms postprocess per image at shape (1, 3, 640, 640)\n",
            "Results saved to \u001b[1mruns/detect/predict3\u001b[0m\n"
          ]
        }
      ]
    },
    {
      "cell_type": "markdown",
      "source": [
        "Task flag = [detect, classify, segment]\n",
        "\n",
        "Mode flag = [train, val, predict, export]"
      ],
      "metadata": {
        "id": "yiSEdCMQrI_C"
      }
    },
    {
      "cell_type": "code",
      "source": [
        "# Classification\n",
        "! yolo classify mode=predict model=yolov8s-cls.pt source=\"zidane.jpg\""
      ],
      "metadata": {
        "id": "rV2hK1M0MRQe",
        "colab": {
          "base_uri": "https://localhost:8080/"
        },
        "outputId": "04d7c5e1-371a-4e53-ad58-4007ed580bdc"
      },
      "execution_count": null,
      "outputs": [
        {
          "output_type": "stream",
          "name": "stdout",
          "text": [
            "Downloading https://github.com/ultralytics/assets/releases/download/v0.0.0/yolov8s-cls.pt to yolov8s-cls.pt...\n",
            "100% 12.2M/12.2M [00:00<00:00, 31.1MB/s]\n",
            "qt.qpa.xcb: could not connect to display \n",
            "qt.qpa.plugin: Could not load the Qt platform plugin \"xcb\" in \"/usr/local/lib/python3.9/dist-packages/cv2/qt/plugins\" even though it was found.\n",
            "This application failed to start because no Qt platform plugin could be initialized. Reinstalling the application may fix this problem.\n",
            "\n",
            "Available platform plugins are: xcb.\n",
            "\n"
          ]
        }
      ]
    },
    {
      "cell_type": "code",
      "source": [
        "# Segmentation\n",
        "! yolo segment predict model=yolov8s-seg.pt source=\"zidane.jpg\" save=True\n"
      ],
      "metadata": {
        "id": "RYMPYf3hK5tK",
        "colab": {
          "base_uri": "https://localhost:8080/"
        },
        "outputId": "8f95fa2b-fb90-429d-95d9-4789e4411281"
      },
      "execution_count": null,
      "outputs": [
        {
          "output_type": "stream",
          "name": "stdout",
          "text": [
            "Ultralytics YOLOv8.0.51 🚀 Python-3.9.16 torch-1.13.1+cu116 CPU\n",
            "YOLOv8s-seg summary (fused): 195 layers, 11810560 parameters, 0 gradients, 42.6 GFLOPs\n",
            "\n",
            "image 1/1 /content/zidane.jpg: 384x640 3 persons, 2 ties, 589.0ms\n",
            "Speed: 5.2ms preprocess, 589.0ms inference, 8.0ms postprocess per image at shape (1, 3, 640, 640)\n"
          ]
        }
      ]
    },
    {
      "cell_type": "markdown",
      "source": [
        "## Validate"
      ],
      "metadata": {
        "id": "yAIk_oo_lYRD"
      }
    },
    {
      "cell_type": "code",
      "source": [
        "# Download COCO val\n",
        "import torch\n",
        "torch.hub.download_url_to_file('https://ultralytics.com/assets/coco2017val.zip', 'tmp.zip')  # download (780M - 5000 images)\n",
        "!unzip -q tmp.zip -d ../datasets && rm tmp.zip  # unzip"
      ],
      "metadata": {
        "id": "EAk5Um2dlZ28"
      },
      "execution_count": null,
      "outputs": []
    },
    {
      "cell_type": "code",
      "source": [
        "# Validate YOLOv8n on COCO128 val\n",
        "!yolo val model=yolov8n.pt data=coco128.yaml"
      ],
      "metadata": {
        "id": "N34POJdUldMF"
      },
      "execution_count": null,
      "outputs": []
    },
    {
      "cell_type": "markdown",
      "source": [
        "## Train model"
      ],
      "metadata": {
        "id": "43QjXWfep7bB"
      }
    },
    {
      "cell_type": "code",
      "source": [
        "#Training\n",
        "! yolo train model=yolov8n.pt data=coco128.yaml epochs=3 imgsz=640\n"
      ],
      "metadata": {
        "id": "xyFplR8IMy2E"
      },
      "execution_count": null,
      "outputs": []
    },
    {
      "cell_type": "markdown",
      "source": [
        "## Python Usage\n"
      ],
      "metadata": {
        "id": "sjSzvpkldzJZ"
      }
    },
    {
      "cell_type": "code",
      "source": [
        "from ultralytics import YOLO\n",
        "from PIL import Image\n",
        "import cv2\n",
        "\n",
        "# Load a model\n",
        "#model = YOLO(\"./yolov8n.yaml\")  # build a new model from scratch\n",
        "model = YOLO(\"./yolov8n.pt\")  # load a pretrained model (recommended for training)\n",
        "\n",
        "# Train the model\n",
        "model.train(data=\"coco128.yaml\", epochs=3)\n",
        "metrics = model.val()  # evaluate model performance on the validation set\n",
        "\n",
        "# 預測\n",
        "#results = model(\"./bus.jpg\")\n",
        "# webcam\n",
        "# results = model.predict(source=\"0\")\n",
        "# 整個目錄\n",
        "# results = model.predict(source=\"folder\", show=True)\n",
        "\n",
        "results = model.predict(\"./bus.jpg\", save=True)\n",
        "print(results[0].boxes.cls)\n",
        "print()\n",
        "\n",
        "# 顯示物件座標\n",
        "print(results[0].boxes.xyxy)\n",
        "\n",
        "# model.export(format='onnx')\n",
        "\n",
        "#Plot\n",
        "#res = model(img)\n",
        "#res_plotted = res[0].plot()\n",
        "#cv2.imshow(\"result\", res_plotted)"
      ],
      "metadata": {
        "id": "Gha9Xa16IiBH"
      },
      "execution_count": null,
      "outputs": []
    },
    {
      "cell_type": "markdown",
      "source": [
        "## Multi-objects tracking"
      ],
      "metadata": {
        "id": "DMUwFHKzxS-S"
      }
    },
    {
      "cell_type": "code",
      "source": [
        "! yolo track model=yolov8n.pt source=\"https://youtu.be/Zgi9g1ksQHc\" tracker='custom_tracker.yaml'"
      ],
      "metadata": {
        "id": "_IsdyBmVxV5S"
      },
      "execution_count": null,
      "outputs": []
    },
    {
      "cell_type": "markdown",
      "source": [
        "## **Appendix**\n"
      ],
      "metadata": {
        "id": "1plNuzeXX7mZ"
      }
    },
    {
      "cell_type": "markdown",
      "source": [
        "[Ultralytics tutorial](https://colab.research.google.com/github/ultralytics/ultralytics/blob/main/examples/tutorial.ipynb#scrollTo=kUMOQ0OeDBJG)\n",
        "\n",
        "[Github repo](https://github.com/ultralytics/ultralytics)\n",
        "\n",
        "[Documentation](https://docs.ultralytics.com/predict/)\n",
        "\n",
        "[Argoverse dataset](https://www.argoverse.org/av2.html)\n",
        "\n",
        "[Object Detection: A journey from R-CNN to Mask R-CNN and YOLO](https://medium.com/augmented-startups/object-detection-a-journey-from-r-cnn-to-mask-r-cnn-and-yolo-698ba097d490)"
      ],
      "metadata": {
        "id": "14FVT8F-86S1"
      }
    }
  ]
}